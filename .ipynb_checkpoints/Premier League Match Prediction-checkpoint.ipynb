{
 "cells": [
  {
   "cell_type": "code",
   "execution_count": 1,
   "metadata": {
    "collapsed": false
   },
   "outputs": [],
   "source": [
    "import urllib.request \n",
    "from json import *\n",
    "import pandas as pd\n",
    "import html5lib\n",
    "import numpy as np\n",
    "import datetime as dt\n",
    "import time\n",
    "import matplotlib.dates as mdates\n",
    "from sklearn import svm, preprocessing, cross_validation, grid_search, linear_model, naive_bayes, metrics\n",
    "from sklearn.learning_curve import learning_curve\n",
    "import matplotlib.pyplot as plt\n",
    "%matplotlib inline\n",
    "import warnings\n",
    "warnings.filterwarnings('ignore')"
   ]
  },
  {
   "cell_type": "code",
   "execution_count": null,
   "metadata": {
    "collapsed": true
   },
   "outputs": [],
   "source": [
    "#Data from Fantasy Premier League API\n",
    "\n",
    "u = \"http://fantasy.premierleague.com/web/api/elements/4\"\n",
    "x1 = urllib.request.urlopen(u).read().decode()\n",
    "dic = {}\n",
    "dic = JSONDecoder().decode(x1)\n",
    "print(dic)\n",
    "\n",
    "playerGameweek_df = pd.DataFrame(dic['fixture_history']['all'])\n",
    "playerGameweek_df.columns = ['Date','Round','Opponent','Minutes_Played','Goals_Scored','Assists','Clean_Sheets',\n",
    "                             'Goals_Conceded','Own_goals','Penalties_Saved','Penalties_Missed',\n",
    "                             'Yellow_Cards','Red_Cards','Saves','Bonus','PPI','BonusPS','Net_Transfers',\n",
    "                             'Player_Value','Points']\n",
    "playerGameweek_df.set_index('Round', inplace=True, drop=True)\n",
    "\n",
    "playerPreviousSeason_df = pd.DataFrame(dic['season_history'])\n",
    "playerPreviousSeason_df.columns = ['Year','Minutes_Played','Goals_Scored','Assists','Clean_Sheets',\n",
    "                             'Goals_Conceded','Own_goals','Penalties_Saved','Penalties_Missed',\n",
    "                             'Yellow_Cards','Red_Cards','Saves','Bonus','PPI','BonusPS','Player_Value','Points']\n",
    "#playerPreviousSeason_df.set_index('Year', inplace=True, drop=True)\n",
    "\n",
    "playerGenInfor_df = pd.Series()\n",
    "dicIndex = ['type_name','first_name','web_name','team_name', 'dreamteam_count'\n",
    "            ,'chance_of_playing_this_round','selected_by_percent', 'next_fixture']\n",
    "for index in dicIndex:\n",
    "    joiner = pd.Series(dic[index], name = str(index))\n",
    "    playerGenInfor_df = pd.concat([playerGenInfor_df,joiner], axis = 1)\n",
    "\n",
    "print(playerGenInfor_df.head(5))\n",
    "print(playerPreviousSeason_df.head(5))\n",
    "print(playerGameweek_df.head(5))"
   ]
  },
  {
   "cell_type": "code",
   "execution_count": 2,
   "metadata": {
    "collapsed": false
   },
   "outputs": [],
   "source": [
    "#Function to mine feature data from Premier League Website\n",
    "def league_table(season, month, unixtime, matchdate, club = 'All'):\n",
    "    url = 'http://www.premierleague.com/en-gb/matchday/league-table.html?season='+season+'&month='+month+'&timelineView=date&toDate='+unixtime+'&tableView=HOME_VS_AWAY'\n",
    "    df = pd.read_html(url)\n",
    "    df = pd.DataFrame(df[0])\n",
    "    table = pd.DataFrame(df)\n",
    "    col_names = ['Pos', 'CLUB', 'HP', 'HW', 'HD', 'HL', 'HGF', 'HGA', 'HGD', 'HPTS', 'AP', 'AW', 'AD', 'AL', 'AGF', 'AGA', 'AGD', 'APTS', 'TGD', 'TPTS']\n",
    "    table = table.transpose()\n",
    "    table.dropna(inplace = True)\n",
    "    table = table.transpose()\n",
    "    table.columns = col_names\n",
    "    table = table.iloc[0:20]\n",
    "    timestamp = [[matchdate] * len(table)]\n",
    "    timeDic = pd.Series(timestamp[0], name = 'timestamp')\n",
    "    table = table.join(timeDic)\n",
    "    table.set_index('Pos', inplace = True, drop=False)    \n",
    "    if club != 'All':\n",
    "        table = table.iloc[:][table.iloc[:,1] == club]\n",
    "    return table\n",
    "\n",
    "#league_table('YYYY-YYYY','Full Month in caps', 'epochtime',datetime, Optional = 'Team name')                              \n",
    "#leagueTable = league_table('2015-2016','JANUARY', '',Jan-03-2016 18:59:59')"
   ]
  },
  {
   "cell_type": "code",
   "execution_count": 3,
   "metadata": {
    "collapsed": false
   },
   "outputs": [],
   "source": [
    "#Function to handle datetime provided by Results datasource to be used for mining data from Premier League Website \n",
    "def datehandling(matchDate):    \n",
    "    datetyp = dt.datetime.strptime(matchDate, \"%d/%m/%y\")\n",
    "    strtyp = datetyp.strftime('%d/%B/%Y')\n",
    "    unixTime = time.mktime(datetyp.timetuple())\n",
    "    unixTime = str(unixTime*1000)\n",
    "    month = strtyp[3:(len(strtyp)-5)].upper()\n",
    "    if datetyp.month in range(7,12):\n",
    "        year = strtyp[(len(strtyp)-4):len(strtyp)] + \"-\" + str(int(strtyp[(len(strtyp)-4):len(strtyp)])+1)\n",
    "    else:\n",
    "        year = str(int(strtyp[(len(strtyp)-4):len(strtyp)])-1) + \"-\" + strtyp[(len(strtyp)-4):len(strtyp)]\n",
    "    return datetyp,month,year,unixTime\n",
    "macdate, mon, yr, ut = datehandling(\"24/02/16\")\n",
    "\n",
    "# print(mon, macdate, ut)\n",
    "# print(type(macdate))\n",
    "# timestamp = [[macdate] * 8]\n",
    "# timeDic = pd.Series(timestamp[0], name = 'timestamp')\n",
    "# print(timeDic)"
   ]
  },
  {
   "cell_type": "code",
   "execution_count": 109,
   "metadata": {
    "collapsed": true
   },
   "outputs": [],
   "source": [
    "#Pulling all results from 2010 season to latest matchday\n",
    "for excel in range(0,7):\n",
    "    df = pd.read_csv('C:/Users/ArchishmanMitra/Documents/Data Science/Python Scripts/Barclays Premier League Soccer Match Prediction/E0 ('+str(excel)+').csv')\n",
    "    resultTable = pd.concat([resultTable,df], ignore_index = True)\n",
    "\n",
    "#Saving the resulting csv for future use\n",
    "resultTable.to_csv('All Season.csv', index=False)"
   ]
  },
  {
   "cell_type": "code",
   "execution_count": 11,
   "metadata": {
    "collapsed": false,
    "scrolled": true
   },
   "outputs": [],
   "source": [
    "#Using website mining function to build features for each match \n",
    "resultTable = pd.read_csv('All Season.csv')\n",
    "resultTable = resultTable[['Date', 'HomeTeam', 'AwayTeam', 'FTR']]\n",
    "ComTable = pd.DataFrame()\n",
    "AllFinalDf = pd.DataFrame()\n",
    "AllFinalDf.to_pickle('Final Results.pickle')\n",
    "for matches in range(1,500):#len(resultTable)):\n",
    "    AllFinalDf = pd.read_pickle('Final Results.pickle')\n",
    "    matchdate, month, season, unixtime = datehandling(resultTable.Date[matches])\n",
    "    leagueTable = league_table(season, month, unixtime, matchdate, resultTable.HomeTeam[matches])\n",
    "    leagueTableJoiner  = league_table(season,month, unixtime, matchdate, resultTable.AwayTeam[matches])\n",
    "    ComTable = pd.merge(leagueTable,leagueTableJoiner, on = 'timestamp')\n",
    "    ComTable['Result'] = resultTable.FTR[matches]\n",
    "    AllFinalDf = pd.concat([AllFinalDf,ComTable], ignore_index = True)\n",
    "    AllFinalDf.to_pickle('Final Results.pickle')\n",
    "    #print(AllFinalDf.info())\n",
    "#2 mins for 20\n",
    "#6 mins for 50"
   ]
  },
  {
   "cell_type": "code",
   "execution_count": 16,
   "metadata": {
    "collapsed": true
   },
   "outputs": [],
   "source": [
    "#Function available in scikit-learn 0.17\n",
    "from sklearn.learning_curve import learning_curve\n",
    "def plot_learning_curve(estimator, title, X, y, ylim=None, cv=None,\n",
    "                        n_jobs=1, train_sizes=np.linspace(.1, 1.0, 5)):\n",
    "    \"\"\"\n",
    "    Generate a simple plot of the test and traning learning curve.\n",
    "\n",
    "    Parameters\n",
    "    ----------\n",
    "    estimator : object type that implements the \"fit\" and \"predict\" methods\n",
    "        An object of that type which is cloned for each validation.\n",
    "\n",
    "    title : string\n",
    "        Title for the chart.\n",
    "\n",
    "    X : array-like, shape (n_samples, n_features)\n",
    "        Training vector, where n_samples is the number of samples and\n",
    "        n_features is the number of features.\n",
    "\n",
    "    y : array-like, shape (n_samples) or (n_samples, n_features), optional\n",
    "        Target relative to X for classification or regression;\n",
    "        None for unsupervised learning.\n",
    "\n",
    "    ylim : tuple, shape (ymin, ymax), optional\n",
    "        Defines minimum and maximum yvalues plotted.\n",
    "\n",
    "    cv : integer, cross-validation generator, optional\n",
    "        If an integer is passed, it is the number of folds (defaults to 3).\n",
    "        Specific cross-validation objects can be passed, see\n",
    "        sklearn.cross_validation module for the list of possible objects\n",
    "\n",
    "    n_jobs : integer, optional\n",
    "        Number of jobs to run in parallel (default 1).\n",
    "    \"\"\"\n",
    "    plt.figure()\n",
    "    plt.title(title)\n",
    "    if ylim is not None:\n",
    "        plt.ylim(*ylim)\n",
    "    plt.xlabel(\"Training examples\")\n",
    "    plt.ylabel(\"Score\")\n",
    "    train_sizes, train_scores, test_scores = learning_curve(\n",
    "        estimator, X, y, cv=cv, n_jobs=n_jobs, train_sizes=train_sizes)\n",
    "    train_scores_mean = np.mean(train_scores, axis=1)\n",
    "    train_scores_std = np.std(train_scores, axis=1)\n",
    "    test_scores_mean = np.mean(test_scores, axis=1)\n",
    "    test_scores_std = np.std(test_scores, axis=1)\n",
    "    plt.grid()\n",
    "\n",
    "    plt.fill_between(train_sizes, train_scores_mean - train_scores_std,\n",
    "                     train_scores_mean + train_scores_std, alpha=0.1,\n",
    "                     color=\"r\")\n",
    "    plt.fill_between(train_sizes, test_scores_mean - test_scores_std,\n",
    "                     test_scores_mean + test_scores_std, alpha=0.1, color=\"g\")\n",
    "    plt.plot(train_sizes, train_scores_mean, 'o-', color=\"r\",\n",
    "             label=\"Training score\")\n",
    "    plt.plot(train_sizes, test_scores_mean, 'o-', color=\"g\",\n",
    "             label=\"Cross-validation score\")\n",
    "\n",
    "    plt.legend(loc=\"best\")\n",
    "    return plt"
   ]
  },
  {
   "cell_type": "code",
   "execution_count": 18,
   "metadata": {
    "collapsed": false
   },
   "outputs": [
    {
     "data": {
      "image/png": "[encoded data removed]",
      "text/plain": [
       "<matplotlib.figure.Figure at 0x95965c4eb8>"
      ]
     },
     "metadata": {},
     "output_type": "display_data"
    },
    {
     "name": "stdout",
     "output_type": "stream",
     "text": [
      "Accuracy 0.432432432432\n",
      "F1 Score 0.44380280902\n"
     ]
    }
   ],
   "source": [
    "#Training Machine Learning algorithm\n",
    "df = pd.read_pickle('Final Results.pickle')\n",
    "#print(df.info())\n",
    "X = np.array(df.drop([\"CLUB_x\",\"CLUB_y\",\"Result\",\"timestamp\"], 1 ))\n",
    "X = preprocessing.scale(X)\n",
    "y = np.array(df[\"Result\"])\n",
    "X_train, X_test, y_train, y_test = cross_validation.train_test_split(X, y, test_size = 0.2, random_state=0)\n",
    "\n",
    "cv = cross_validation.ShuffleSplit(X_train.shape[0], n_iter = 10, test_size=0.2, random_state=0)\n",
    "SVM = svm.SVC(kernel='linear')\n",
    "gammas = np.logspace(-6, -1, 10)\n",
    "classifier = grid_search.GridSearchCV(estimator=SVM, cv=cv, param_grid = dict(gamma=gammas))\n",
    "classifier.fit(X_train, y_train)\n",
    "\n",
    "estimator = svm.SVC(kernel='linear', gamma = classifier.best_estimator_.gamma)\n",
    "plot_learning_curve(estimator,'Learning Curve',X_train, y_train, cv=cv)\n",
    "plt.show()\n",
    "\n",
    "estimator.fit(X_train, y_train)\n",
    "print('Accuracy '+str(estimator.score(X_test, y_test)))\n",
    "y_pred = estimator.predict(X_test)\n",
    "print('F1 Score '+str(metrics.f1_score(y_test, y_pred)))"
   ]
  },
  {
   "cell_type": "code",
   "execution_count": null,
   "metadata": {
    "collapsed": true
   },
   "outputs": [],
   "source": []
  }
 ],
 "metadata": {
  "kernelspec": {
   "display_name": "Python 3",
   "language": "python",
   "name": "python3"
  },
  "language_info": {
   "codemirror_mode": {
    "name": "ipython",
    "version": 3
   },
   "file_extension": ".py",
   "mimetype": "text/x-python",
   "name": "python",
   "nbconvert_exporter": "python",
   "pygments_lexer": "ipython3",
   "version": "3.5.1"
  }
 },
 "nbformat": 4,
 "nbformat_minor": 0
}
