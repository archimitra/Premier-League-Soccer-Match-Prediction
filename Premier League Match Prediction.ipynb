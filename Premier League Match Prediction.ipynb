{
 "cells": [
  {
   "cell_type": "code",
   "execution_count": 21,
   "metadata": {
    "collapsed": false
   },
   "outputs": [],
   "source": [
    "import urllib.request \n",
    "from json import *\n",
    "import pandas as pd\n",
    "import numpy as np\n",
    "import datetime as dt\n",
    "import time\n",
    "import matplotlib.dates as mdates\n",
    "from sklearn import svm, preprocessing, cross_validation, grid_search, linear_model, naive_bayes, metrics\n",
    "from sklearn.learning_curve import learning_curve\n",
    "import matplotlib.pyplot as plt\n",
    "%matplotlib inline\n",
    "import warnings\n",
    "warnings.filterwarnings('ignore')"
   ]
  },
  {
   "cell_type": "code",
   "execution_count": null,
   "metadata": {
    "collapsed": true
   },
   "outputs": [],
   "source": [
    "#Data from Fantasy Premier League API\n",
    "\n",
    "u = \"http://fantasy.premierleague.com/web/api/elements/4\"\n",
    "x1 = urllib.request.urlopen(u).read().decode()\n",
    "dic = {}\n",
    "dic = JSONDecoder().decode(x1)\n",
    "print(dic)\n",
    "\n",
    "playerGameweek_df = pd.DataFrame(dic['fixture_history']['all'])\n",
    "playerGameweek_df.columns = ['Date','Round','Opponent','Minutes_Played','Goals_Scored','Assists','Clean_Sheets',\n",
    "                             'Goals_Conceded','Own_goals','Penalties_Saved','Penalties_Missed',\n",
    "                             'Yellow_Cards','Red_Cards','Saves','Bonus','PPI','BonusPS','Net_Transfers',\n",
    "                             'Player_Value','Points']\n",
    "playerGameweek_df.set_index('Round', inplace=True, drop=True)\n",
    "\n",
    "playerPreviousSeason_df = pd.DataFrame(dic['season_history'])\n",
    "playerPreviousSeason_df.columns = ['Year','Minutes_Played','Goals_Scored','Assists','Clean_Sheets',\n",
    "                             'Goals_Conceded','Own_goals','Penalties_Saved','Penalties_Missed',\n",
    "                             'Yellow_Cards','Red_Cards','Saves','Bonus','PPI','BonusPS','Player_Value','Points']\n",
    "#playerPreviousSeason_df.set_index('Year', inplace=True, drop=True)\n",
    "\n",
    "playerGenInfor_df = pd.Series()\n",
    "dicIndex = ['type_name','first_name','web_name','team_name', 'dreamteam_count'\n",
    "            ,'chance_of_playing_this_round','selected_by_percent', 'next_fixture']\n",
    "for index in dicIndex:\n",
    "    joiner = pd.Series(dic[index], name = str(index))\n",
    "    playerGenInfor_df = pd.concat([playerGenInfor_df,joiner], axis = 1)\n",
    "\n",
    "print(playerGenInfor_df.head(5))\n",
    "print(playerPreviousSeason_df.head(5))\n",
    "print(playerGameweek_df.head(5))"
   ]
  },
  {
   "cell_type": "code",
   "execution_count": 2,
   "metadata": {
    "collapsed": false
   },
   "outputs": [],
   "source": [
    "#Data from Premier League Website\n",
    "\n",
    "def league_table(season, month, tm, club = 'All'):\n",
    "    tmUnix = time.mktime(dt.datetime.strptime(tm, '%d/%m/%y').timetuple())\n",
    "    tmUnix = str(tmUnix*1000)\n",
    "    url = 'http://www.premierleague.com/en-gb/matchday/league-table.html?season='+season+'&month='+month+'&timelineView=date&toDate='+tmUnix+'&tableView=HOME_VS_AWAY'\n",
    "    df = pd.read_html(url)\n",
    "    df = pd.DataFrame(df[0])\n",
    "    table = pd.DataFrame(df)\n",
    "    col_names = ['Pos', 'CLUB', 'HP', 'HW', 'HD', 'HL', 'HGF', 'HGA', 'HGD', 'HPTS', 'AP', 'AW', 'AD', 'AL', 'AGF', 'AGA', 'AGD', 'APTS', 'TGD', 'TPTS']\n",
    "    table = table.transpose()\n",
    "    table.dropna(inplace = True)\n",
    "    table = table.transpose()\n",
    "    table.columns = col_names\n",
    "    table = table.iloc[0:20]\n",
    "    timestamp = [[(np.int(np.float(tmUnix)))] * len(table)]\n",
    "    timeDic = pd.Series(timestamp[0], name = 'timestamp')\n",
    "    table = table.join(timeDic)\n",
    "    table.set_index('Pos', inplace = True, drop=False)    \n",
    "    if club != 'All':\n",
    "        table = table.iloc[:][table.iloc[:,1] == club]\n",
    "    return table\n",
    "\n",
    "#league_table('YYYY-YYYY','Full Month in caps', '%d/%m/%y', Optional = 'Team name')                              \n",
    "#leagueTable = league_table('2015-2016','JANUARY', 'Jan-03-2016 18:59:59')\n",
    "#d = dt.datetime.fromtimestamp(int(1451865599)).strftime('%b-%d-%Y %H:%M:%S')\n",
    "#print(time.mktime(dt.datetime.strptime(d, '%b-%d-%Y %H:%M:%S').timetuple()))"
   ]
  },
  {
   "cell_type": "code",
   "execution_count": 3,
   "metadata": {
    "collapsed": false
   },
   "outputs": [
    {
     "data": {
      "text/html": [
       "<div>\n",
       "<table border=\"1\" class=\"dataframe\">\n",
       "  <thead>\n",
       "    <tr style=\"text-align: right;\">\n",
       "      <th></th>\n",
       "      <th>timestamp</th>\n",
       "    </tr>\n",
       "  </thead>\n",
       "  <tbody>\n",
       "    <tr>\n",
       "      <th>count</th>\n",
       "      <td>1.900000e+02</td>\n",
       "    </tr>\n",
       "    <tr>\n",
       "      <th>mean</th>\n",
       "      <td>1.445508e+12</td>\n",
       "    </tr>\n",
       "    <tr>\n",
       "      <th>std</th>\n",
       "      <td>3.967348e+09</td>\n",
       "    </tr>\n",
       "    <tr>\n",
       "      <th>min</th>\n",
       "      <td>1.439006e+12</td>\n",
       "    </tr>\n",
       "    <tr>\n",
       "      <th>25%</th>\n",
       "      <td>1.442117e+12</td>\n",
       "    </tr>\n",
       "    <tr>\n",
       "      <th>50%</th>\n",
       "      <td>1.445659e+12</td>\n",
       "    </tr>\n",
       "    <tr>\n",
       "      <th>75%</th>\n",
       "      <td>1.449292e+12</td>\n",
       "    </tr>\n",
       "    <tr>\n",
       "      <th>max</th>\n",
       "      <td>1.451452e+12</td>\n",
       "    </tr>\n",
       "  </tbody>\n",
       "</table>\n",
       "</div>"
      ],
      "text/plain": [
       "          timestamp\n",
       "count  1.900000e+02\n",
       "mean   1.445508e+12\n",
       "std    3.967348e+09\n",
       "min    1.439006e+12\n",
       "25%    1.442117e+12\n",
       "50%    1.445659e+12\n",
       "75%    1.449292e+12\n",
       "max    1.451452e+12"
      ]
     },
     "execution_count": 3,
     "metadata": {},
     "output_type": "execute_result"
    }
   ],
   "source": [
    "df = pd.read_csv('C:/Users/ArchishmanMitra/Documents/Data Science/Python Scripts/FPL Team of the Week Prediction/E0.csv')\n",
    "date = df['Date'].iloc[50]\n",
    "tm = time.mktime(dt.datetime.strptime(date, '%d/%m/%y').timetuple())\n",
    "resultTable = df[['Date', 'HomeTeam', 'AwayTeam', 'FTR']]\n",
    "#print(len(resultTable))\n",
    "ComTable = pd.DataFrame()\n",
    "AllFinalDf = pd.DataFrame()\n",
    "for matches in range(len(resultTable)):\n",
    "    if resultTable.Date[matches][3:5] == '08':\n",
    "        month = 'AUGUST'\n",
    "    if resultTable.Date[matches][3:5] == '09':\n",
    "        month = 'SEPTEMBER'\n",
    "    if resultTable.Date[matches][3:5] == '10':\n",
    "        month = 'OCTOBER'\n",
    "    if resultTable.Date[matches][3:5] == '11':\n",
    "        month = 'NOVEMBER'\n",
    "    if resultTable.Date[matches][3:5] == '12':\n",
    "        month = 'DECEMBER'\n",
    "    if resultTable.Date[matches][3:5] == '01':\n",
    "        month = 'OCTOBER'\n",
    "    leagueTable = league_table('2015-2016',month, resultTable.Date[matches], resultTable.HomeTeam[matches])\n",
    "    leagueTableJoiner  = league_table('2015-2016',month, resultTable.Date[matches], resultTable.AwayTeam[matches])\n",
    "    #FinalDf = pd.concat([leagueTable,leagueTableJoiner], ignore_index = True)\n",
    "    ComTable = pd.merge(leagueTable,leagueTableJoiner, on = 'timestamp')\n",
    "    ComTable['Result'] = resultTable.FTR[matches]\n",
    "    AllFinalDf = pd.concat([AllFinalDf,ComTable], ignore_index = True)\n",
    "AllFinalDf.to_pickle('Final Results.pickle')\n",
    "AllFinalDf.describe()\n",
    "#2 mins for 20\n",
    "#6 mins for 50"
   ]
  },
  {
   "cell_type": "code",
   "execution_count": 12,
   "metadata": {
    "collapsed": true
   },
   "outputs": [],
   "source": [
    "#Function available in scikit-learn 0.17\n",
    "from sklearn.learning_curve import learning_curve\n",
    "def plot_learning_curve(estimator, title, X, y, ylim=None, cv=None,\n",
    "                        n_jobs=1, train_sizes=np.linspace(.1, 1.0, 5)):\n",
    "    \"\"\"\n",
    "    Generate a simple plot of the test and traning learning curve.\n",
    "\n",
    "    Parameters\n",
    "    ----------\n",
    "    estimator : object type that implements the \"fit\" and \"predict\" methods\n",
    "        An object of that type which is cloned for each validation.\n",
    "\n",
    "    title : string\n",
    "        Title for the chart.\n",
    "\n",
    "    X : array-like, shape (n_samples, n_features)\n",
    "        Training vector, where n_samples is the number of samples and\n",
    "        n_features is the number of features.\n",
    "\n",
    "    y : array-like, shape (n_samples) or (n_samples, n_features), optional\n",
    "        Target relative to X for classification or regression;\n",
    "        None for unsupervised learning.\n",
    "\n",
    "    ylim : tuple, shape (ymin, ymax), optional\n",
    "        Defines minimum and maximum yvalues plotted.\n",
    "\n",
    "    cv : integer, cross-validation generator, optional\n",
    "        If an integer is passed, it is the number of folds (defaults to 3).\n",
    "        Specific cross-validation objects can be passed, see\n",
    "        sklearn.cross_validation module for the list of possible objects\n",
    "\n",
    "    n_jobs : integer, optional\n",
    "        Number of jobs to run in parallel (default 1).\n",
    "    \"\"\"\n",
    "    plt.figure()\n",
    "    plt.title(title)\n",
    "    if ylim is not None:\n",
    "        plt.ylim(*ylim)\n",
    "    plt.xlabel(\"Training examples\")\n",
    "    plt.ylabel(\"Score\")\n",
    "    train_sizes, train_scores, test_scores = learning_curve(\n",
    "        estimator, X, y, cv=cv, n_jobs=n_jobs, train_sizes=train_sizes)\n",
    "    train_scores_mean = np.mean(train_scores, axis=1)\n",
    "    train_scores_std = np.std(train_scores, axis=1)\n",
    "    test_scores_mean = np.mean(test_scores, axis=1)\n",
    "    test_scores_std = np.std(test_scores, axis=1)\n",
    "    plt.grid()\n",
    "\n",
    "    plt.fill_between(train_sizes, train_scores_mean - train_scores_std,\n",
    "                     train_scores_mean + train_scores_std, alpha=0.1,\n",
    "                     color=\"r\")\n",
    "    plt.fill_between(train_sizes, test_scores_mean - test_scores_std,\n",
    "                     test_scores_mean + test_scores_std, alpha=0.1, color=\"g\")\n",
    "    plt.plot(train_sizes, train_scores_mean, 'o-', color=\"r\",\n",
    "             label=\"Training score\")\n",
    "    plt.plot(train_sizes, test_scores_mean, 'o-', color=\"g\",\n",
    "             label=\"Cross-validation score\")\n",
    "\n",
    "    plt.legend(loc=\"best\")\n",
    "    return plt"
   ]
  },
  {
   "cell_type": "code",
   "execution_count": 22,
   "metadata": {
    "collapsed": false
   },
   "outputs": [
    {
     "data": {
      "image/png": "[encoded data removed]",
      "text/plain": [
       "<matplotlib.figure.Figure at 0x81b0df0>"
      ]
     },
     "metadata": {},
     "output_type": "display_data"
    },
    {
     "name": "stdout",
     "output_type": "stream",
     "text": [
      "Accuracy 0.552631578947\n",
      "F1 Score 0.555444724781\n"
     ]
    }
   ],
   "source": [
    "df = pd.read_pickle('Final Results.pickle')\n",
    "X = np.array(df.drop([\"CLUB_x\",\"CLUB_y\",\"Result\"], 1 ))\n",
    "X = preprocessing.scale(X)\n",
    "y = np.array(df[\"Result\"])\n",
    "X_train, X_test, y_train, y_test = cross_validation.train_test_split(X, y, test_size = 0.2, random_state=0)\n",
    "\n",
    "cv = cross_validation.ShuffleSplit(X_train.shape[0], n_iter = 10, test_size=0.2, random_state=0)\n",
    "SVM = svm.SVC(kernel='linear')\n",
    "gammas = np.logspace(-6, -1, 10)\n",
    "classifier = grid_search.GridSearchCV(estimator=SVM, cv=cv, param_grid = dict(gamma=gammas))\n",
    "classifier.fit(X_train, y_train)\n",
    "\n",
    "estimator = svm.SVC(kernel='linear', gamma = classifier.best_estimator_.gamma)\n",
    "plot_learning_curve(estimator,'Learning Curve',X_train, y_train, cv=cv)\n",
    "plt.show()\n",
    "\n",
    "estimator.fit(X_train, y_train)\n",
    "print('Accuracy '+str(estimator.score(X_test, y_test)))\n",
    "y_pred = estimator.predict(X_test)\n",
    "print('F1 Score '+str(metrics.f1_score(y_test, y_pred)))"
   ]
  },
  {
   "cell_type": "code",
   "execution_count": null,
   "metadata": {
    "collapsed": true
   },
   "outputs": [],
   "source": []
  }
 ],
 "metadata": {
  "kernelspec": {
   "display_name": "Python 3",
   "language": "python",
   "name": "python3"
  },
  "language_info": {
   "codemirror_mode": {
    "name": "ipython",
    "version": 3
   },
   "file_extension": ".py",
   "mimetype": "text/x-python",
   "name": "python",
   "nbconvert_exporter": "python",
   "pygments_lexer": "ipython3",
   "version": "3.5.1"
  }
 },
 "nbformat": 4,
 "nbformat_minor": 0
}
